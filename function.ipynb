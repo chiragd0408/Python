{
 "cells": [
  {
   "cell_type": "code",
   "execution_count": 20,
   "metadata": {},
   "outputs": [],
   "source": [
    "# Functions is a block of code that perform a specfic task\n",
    "# Arguments are of two types : Positional and Named Arguments\n"
   ]
  },
  {
   "cell_type": "code",
   "execution_count": 5,
   "metadata": {},
   "outputs": [
    {
     "name": "stdout",
     "output_type": "stream",
     "text": [
      "9000\n",
      "1400\n"
     ]
    }
   ],
   "source": [
    "def caluculate_total(exp):\n",
    "    total = 0\n",
    "    for item in exp:\n",
    "        total = total + item\n",
    "    return total\n",
    "\n",
    "\n",
    "tom_exp_list = [2100,3400,3500]\n",
    "joe_exp_list = [200,500,700]\n",
    "\n",
    "toms_total = caluculate_total(tom_exp_list)\n",
    "joes_total = caluculate_total(joe_exp_list)\n",
    "\n",
    "print(toms_total)\n",
    "print(joes_total)\n"
   ]
  },
  {
   "cell_type": "code",
   "execution_count": 22,
   "metadata": {},
   "outputs": [
    {
     "name": "stdout",
     "output_type": "stream",
     "text": [
      "c:  4\n",
      "d:  4\n",
      "8\n"
     ]
    }
   ],
   "source": [
    "def sum(a,b):\n",
    "    print(\"c: \",c)\n",
    "    print(\"d: \",d)\n",
    "    total = a+b\n",
    "    return total\n",
    "\n",
    "c = input(\"Enter a value of a: \")\n",
    "d = input(\"Enter a value of b: \")\n",
    "\n",
    "Sum_total = sum(int(c),int(d))\n",
    "\n",
    "print(Sum_total)\n"
   ]
  },
  {
   "cell_type": "code",
   "execution_count": 19,
   "metadata": {},
   "outputs": [
    {
     "name": "stdout",
     "output_type": "stream",
     "text": [
      "The number is odd\n"
     ]
    }
   ],
   "source": [
    "def even(two):\n",
    "    if two % 2 == 0:\n",
    "        print(\"The number is even\")\n",
    "    else:\n",
    "        print(\"The number is odd\")\n",
    "\n",
    "x = input(\"Enter a number: \")\n",
    "Even_odd = even(int(x))\n"
   ]
  },
  {
   "cell_type": "code",
   "execution_count": 23,
   "metadata": {},
   "outputs": [],
   "source": [
    "# Global vs Local Variables"
   ]
  },
  {
   "cell_type": "code",
   "execution_count": 24,
   "metadata": {},
   "outputs": [
    {
     "name": "stdout",
     "output_type": "stream",
     "text": [
      "11\n"
     ]
    }
   ],
   "source": [
    "total = 0 # global variables \n",
    "def sum(a,b):\n",
    "    total = 0 #local vraiables\n",
    "    total = a+b\n",
    "    return total\n",
    "\n",
    "n = sum(5,6)\n",
    "print(n)"
   ]
  },
  {
   "cell_type": "code",
   "execution_count": 25,
   "metadata": {},
   "outputs": [],
   "source": [
    "# Default Arguments"
   ]
  },
  {
   "cell_type": "code",
   "execution_count": 27,
   "metadata": {},
   "outputs": [
    {
     "name": "stdout",
     "output_type": "stream",
     "text": [
      "5\n"
     ]
    }
   ],
   "source": [
    "def sum(a,b=0):\n",
    "    total = a+b\n",
    "    return total\n",
    "\n",
    "n = sum(5)\n",
    "print(n)"
   ]
  },
  {
   "cell_type": "code",
   "execution_count": 28,
   "metadata": {},
   "outputs": [],
   "source": [
    "# Documentation Strings"
   ]
  },
  {
   "cell_type": "code",
   "execution_count": null,
   "metadata": {},
   "outputs": [],
   "source": []
  }
 ],
 "metadata": {
  "kernelspec": {
   "display_name": "Python 3",
   "language": "python",
   "name": "python3"
  },
  "language_info": {
   "codemirror_mode": {
    "name": "ipython",
    "version": 3
   },
   "file_extension": ".py",
   "mimetype": "text/x-python",
   "name": "python",
   "nbconvert_exporter": "python",
   "pygments_lexer": "ipython3",
   "version": "3.13.0"
  }
 },
 "nbformat": 4,
 "nbformat_minor": 2
}
