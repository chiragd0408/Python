{
 "cells": [
  {
   "cell_type": "code",
   "execution_count": null,
   "metadata": {},
   "outputs": [],
   "source": [
    "# Class has main two components: Properties and methods\n",
    "# object is a specific instances of class"
   ]
  },
  {
   "cell_type": "code",
   "execution_count": 3,
   "metadata": {},
   "outputs": [
    {
     "name": "stdout",
     "output_type": "stream",
     "text": [
      "Tom Cruise shoots a film\n",
      "Tom Cruise how are you?\n"
     ]
    }
   ],
   "source": [
    "class Human:\n",
    "    def __init__(self, n, o):\n",
    "        self.name = n\n",
    "        self.occupation = o\n",
    "    def do_work(self):\n",
    "        if self.occupation == \"tennis player\":\n",
    "            print(self.name,\"Play tennis\")\n",
    "        elif self.occupation == \"actor\":\n",
    "            print(self.name,\"shoots a film\")\n",
    "\n",
    "    def speaks(self):\n",
    "        print(self.name,\"how are you?\")\n",
    "\n",
    "tom = Human(\"Tom Cruise\",\"actor\")\n",
    "tom.do_work()\n",
    "tom.speaks()"
   ]
  },
  {
   "cell_type": "code",
   "execution_count": null,
   "metadata": {},
   "outputs": [],
   "source": []
  }
 ],
 "metadata": {
  "kernelspec": {
   "display_name": "Python 3",
   "language": "python",
   "name": "python3"
  },
  "language_info": {
   "codemirror_mode": {
    "name": "ipython",
    "version": 3
   },
   "file_extension": ".py",
   "mimetype": "text/x-python",
   "name": "python",
   "nbconvert_exporter": "python",
   "pygments_lexer": "ipython3",
   "version": "3.13.0"
  }
 },
 "nbformat": 4,
 "nbformat_minor": 2
}
