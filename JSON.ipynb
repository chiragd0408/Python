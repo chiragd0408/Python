{
 "cells": [
  {
   "cell_type": "code",
   "execution_count": 2,
   "metadata": {},
   "outputs": [],
   "source": [
    "# JSON  = Javascript Object Notation\n",
    "# Json is a Data Exchange Format similar to XML JSON is more lightweignt h=than XML"
   ]
  },
  {
   "cell_type": "code",
   "execution_count": null,
   "metadata": {},
   "outputs": [],
   "source": [
    "book = {}\n",
    "book['tom'] = {\n",
    "    'name' : 'tom',\n",
    "    'address' : '1 red street, NY',\n",
    "    'phone' : 797790206\n",
    "}\n",
    "book['bob'] = {\n",
    "    'name' : 'bob',\n",
    "    'address' :  '1 red street, NY',\n",
    "    'phone' : 797790205\n",
    "}\n",
    "\n",
    "import json\n",
    "s = json.dumps(book) # dumpning input in string then the output will be ein JSON Format\n",
    "with open(\"c://Data//book.text\",\"w\") as f:  # w = if you want to write \n",
    "          f.write(s)"
   ]
  },
  {
   "cell_type": "code",
   "execution_count": 17,
   "metadata": {},
   "outputs": [],
   "source": [
    "# you can now read the JSON data using any language that supports JSON such as Avascript, c++ etc\n",
    "# Hence this is called data exchange format (i.e exchanging data from python programm to javascript program) "
   ]
  },
  {
   "cell_type": "code",
   "execution_count": 19,
   "metadata": {},
   "outputs": [
    {
     "name": "stdout",
     "output_type": "stream",
     "text": [
      "{\"tom\": {\"name\": \"tom\", \"address\": \"1 red street, NY\", \"phone\": 797790206}, \"bob\": {\"name\": \"bob\", \"address\": \"1 red street, NY\", \"phone\": 797790205}}\n"
     ]
    }
   ],
   "source": [
    "f = open(\"c://Data//book.text\",\"r\")\n",
    "s = f.read()\n",
    "print(s)"
   ]
  },
  {
   "cell_type": "code",
   "execution_count": 22,
   "metadata": {},
   "outputs": [
    {
     "data": {
      "text/plain": [
       "{'tom': {'name': 'tom', 'address': '1 red street, NY', 'phone': 797790206},\n",
       " 'bob': {'name': 'bob', 'address': '1 red street, NY', 'phone': 797790205}}"
      ]
     },
     "execution_count": 22,
     "metadata": {},
     "output_type": "execute_result"
    }
   ],
   "source": [
    "import json\n",
    "book = json.loads(s)\n",
    "book"
   ]
  },
  {
   "cell_type": "code",
   "execution_count": 23,
   "metadata": {},
   "outputs": [
    {
     "data": {
      "text/plain": [
       "dict"
      ]
     },
     "execution_count": 23,
     "metadata": {},
     "output_type": "execute_result"
    }
   ],
   "source": [
    "type(book)"
   ]
  },
  {
   "cell_type": "code",
   "execution_count": 24,
   "metadata": {},
   "outputs": [
    {
     "data": {
      "text/plain": [
       "{'name': 'bob', 'address': '1 red street, NY', 'phone': 797790205}"
      ]
     },
     "execution_count": 24,
     "metadata": {},
     "output_type": "execute_result"
    }
   ],
   "source": [
    "book['bob']"
   ]
  },
  {
   "cell_type": "code",
   "execution_count": 25,
   "metadata": {},
   "outputs": [
    {
     "data": {
      "text/plain": [
       "797790205"
      ]
     },
     "execution_count": 25,
     "metadata": {},
     "output_type": "execute_result"
    }
   ],
   "source": [
    "book['bob'] ['phone']"
   ]
  },
  {
   "cell_type": "code",
   "execution_count": 26,
   "metadata": {},
   "outputs": [
    {
     "name": "stdout",
     "output_type": "stream",
     "text": [
      "{'name': 'tom', 'address': '1 red street, NY', 'phone': 797790206}\n",
      "{'name': 'bob', 'address': '1 red street, NY', 'phone': 797790205}\n"
     ]
    }
   ],
   "source": [
    "for person in book:\n",
    "    print(book[person])"
   ]
  },
  {
   "cell_type": "code",
   "execution_count": null,
   "metadata": {},
   "outputs": [],
   "source": []
  }
 ],
 "metadata": {
  "kernelspec": {
   "display_name": "Python 3",
   "language": "python",
   "name": "python3"
  },
  "language_info": {
   "codemirror_mode": {
    "name": "ipython",
    "version": 3
   },
   "file_extension": ".py",
   "mimetype": "text/x-python",
   "name": "python",
   "nbconvert_exporter": "python",
   "pygments_lexer": "ipython3",
   "version": "3.13.0"
  }
 },
 "nbformat": 4,
 "nbformat_minor": 2
}
