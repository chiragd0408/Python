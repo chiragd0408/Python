{
 "cells": [
  {
   "cell_type": "code",
   "execution_count": 3,
   "metadata": {},
   "outputs": [
    {
     "data": {
      "text/plain": [
       "{'Pizza': 40, 'Pasta': 50, 'Burger': 60, 'Salad': 70, 'Coffee': 80}"
      ]
     },
     "execution_count": 3,
     "metadata": {},
     "output_type": "execute_result"
    }
   ],
   "source": [
    "menu = {\n",
    "    \"Pizza\": 40,\n",
    "    \"Pasta\": 50,\n",
    "    \"Burger\": 60,\n",
    "    \"Salad\": 70,\n",
    "    \"Coffee\": 80\n",
    "}\n",
    "menu"
   ]
  },
  {
   "cell_type": "code",
   "execution_count": 18,
   "metadata": {},
   "outputs": [
    {
     "name": "stdout",
     "output_type": "stream",
     "text": [
      "Welcome to Restaurant\n",
      "Pizza: 40\n",
      "Pasta: 50\n",
      "Burger: 60\n",
      "Salad: 70\n",
      "Coffee: 80\n"
     ]
    }
   ],
   "source": [
    "print(\"Welcome to Restaurant\")\n",
    "print(\"Pizza: 40\\nPasta: 50\\nBurger: 60\\nSalad: 70\\nCoffee: 80\")"
   ]
  },
  {
   "cell_type": "code",
   "execution_count": 12,
   "metadata": {},
   "outputs": [
    {
     "name": "stdout",
     "output_type": "stream",
     "text": [
      "Your item has been added Pizza\n"
     ]
    }
   ],
   "source": [
    "order_total = 0\n",
    "\n",
    "item1 = input(\"Enter the name of order: \")\n",
    "\n",
    "if item1 in menu:\n",
    "    order_total = order_total + menu[item1]\n",
    "    print(\"Your item has been added\",item1)\n",
    "else:\n",
    "    print(\"Your order is not available: \",item1)"
   ]
  },
  {
   "cell_type": "code",
   "execution_count": 13,
   "metadata": {},
   "outputs": [
    {
     "name": "stdout",
     "output_type": "stream",
     "text": [
      "Your item has been added\n"
     ]
    }
   ],
   "source": [
    "item_2 = input(\"Enter the another name of order? (Yes/No) \")\n",
    "\n",
    "if item_2 == \"Yes\":\n",
    "    item_2 = input(\"Enter the name of order: \")\n",
    "    if item_2 in menu:\n",
    "        order_total += menu[item_2]\n",
    "        print(\"Your item has been added\")\n",
    "    else:\n",
    "        print(\"Your order is not available: \",item1)\n"
   ]
  },
  {
   "cell_type": "code",
   "execution_count": 14,
   "metadata": {},
   "outputs": [
    {
     "name": "stdout",
     "output_type": "stream",
     "text": [
      "Total Bill 120\n"
     ]
    }
   ],
   "source": [
    "print(\"Total Bill\", order_total)"
   ]
  },
  {
   "cell_type": "code",
   "execution_count": 19,
   "metadata": {},
   "outputs": [],
   "source": [
    "# The Project Ends here this is an CAFE Management Sytem"
   ]
  },
  {
   "cell_type": "code",
   "execution_count": null,
   "metadata": {},
   "outputs": [],
   "source": []
  },
  {
   "cell_type": "code",
   "execution_count": null,
   "metadata": {},
   "outputs": [],
   "source": []
  },
  {
   "cell_type": "code",
   "execution_count": null,
   "metadata": {},
   "outputs": [],
   "source": [
    "# Build the Digital CLock in Python"
   ]
  },
  {
   "cell_type": "code",
   "execution_count": 32,
   "metadata": {},
   "outputs": [],
   "source": [
    "import tkinter as tk\n",
    "from time import strftime\n",
    "\n",
    "\n",
    "root = tk.Tk()\n",
    "root.title(\"Digital Clock\")\n",
    "\n",
    "\n",
    "def time():\n",
    "    string = strftime(\"%H:%M:%S %p \\n %D\")\n",
    "    label.config(text=string)  # the text to display in label\n",
    "    label.after(1000,time)\n",
    "\n",
    "\n",
    "label = tk.Label(root,font=('Times new roman', 100, 'italic'), background='yellow', foreground= 'black')\n",
    "label.pack(anchor = 'center') #Pack the label into the window \n",
    "\n",
    "time()\n",
    "\n",
    "root.mainloop()"
   ]
  },
  {
   "cell_type": "code",
   "execution_count": 1,
   "metadata": {},
   "outputs": [],
   "source": [
    "# Building a Text Ediitor using python"
   ]
  },
  {
   "cell_type": "code",
   "execution_count": null,
   "metadata": {},
   "outputs": [],
   "source": []
  }
 ],
 "metadata": {
  "kernelspec": {
   "display_name": "Python 3",
   "language": "python",
   "name": "python3"
  },
  "language_info": {
   "codemirror_mode": {
    "name": "ipython",
    "version": 3
   },
   "file_extension": ".py",
   "mimetype": "text/x-python",
   "name": "python",
   "nbconvert_exporter": "python",
   "pygments_lexer": "ipython3",
   "version": "3.13.0"
  }
 },
 "nbformat": 4,
 "nbformat_minor": 2
}
